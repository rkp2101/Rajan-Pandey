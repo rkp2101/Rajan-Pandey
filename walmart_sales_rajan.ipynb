{
 "cells": [
  {
   "cell_type": "markdown",
   "metadata": {},
   "source": [
    "# Predict the weekly sales of walmart stores by section using historical sales, markdown data and macro-economic indicators "
   ]
  },
  {
   "cell_type": "markdown",
   "metadata": {},
   "source": [
    "- Price Markdown is a method of reducing the sale price of a product"
   ]
  },
  {
   "cell_type": "code",
   "execution_count": 1,
   "metadata": {},
   "outputs": [],
   "source": [
    "import numpy as np\n",
    "import pandas as pd\n",
    "import os\n",
    "import matplotlib.pyplot as plt\n",
    "import seaborn as sns"
   ]
  },
  {
   "cell_type": "code",
   "execution_count": 2,
   "metadata": {},
   "outputs": [],
   "source": [
    "#reading the required data files\n",
    "sales_data = pd.read_csv('/Volumes/Mac-RKP/Data science/Dezyre/Walmart Forecasting/sales_data.csv')\n",
    "features_data = pd.read_csv('/Volumes/Mac-RKP/Data science/Dezyre/Walmart Forecasting/features.csv')\n",
    "stores_data = pd.read_csv('/Volumes/Mac-RKP/Data science/Dezyre/Walmart Forecasting/stores.csv')"
   ]
  },
  {
   "cell_type": "markdown",
   "metadata": {},
   "source": [
    "# Exploratory Data Analysis (EDA)"
   ]
  },
  {
   "cell_type": "code",
   "execution_count": 3,
   "metadata": {},
   "outputs": [
    {
     "data": {
      "text/html": [
       "<div>\n",
       "<style scoped>\n",
       "    .dataframe tbody tr th:only-of-type {\n",
       "        vertical-align: middle;\n",
       "    }\n",
       "\n",
       "    .dataframe tbody tr th {\n",
       "        vertical-align: top;\n",
       "    }\n",
       "\n",
       "    .dataframe thead th {\n",
       "        text-align: right;\n",
       "    }\n",
       "</style>\n",
       "<table border=\"1\" class=\"dataframe\">\n",
       "  <thead>\n",
       "    <tr style=\"text-align: right;\">\n",
       "      <th></th>\n",
       "      <th>Store</th>\n",
       "      <th>Dept</th>\n",
       "      <th>Date</th>\n",
       "      <th>Weekly_Sales</th>\n",
       "      <th>IsHoliday</th>\n",
       "    </tr>\n",
       "  </thead>\n",
       "  <tbody>\n",
       "    <tr>\n",
       "      <th>0</th>\n",
       "      <td>1</td>\n",
       "      <td>1</td>\n",
       "      <td>2010-02-05</td>\n",
       "      <td>24924.50</td>\n",
       "      <td>False</td>\n",
       "    </tr>\n",
       "    <tr>\n",
       "      <th>1</th>\n",
       "      <td>1</td>\n",
       "      <td>1</td>\n",
       "      <td>2010-02-12</td>\n",
       "      <td>46039.49</td>\n",
       "      <td>True</td>\n",
       "    </tr>\n",
       "    <tr>\n",
       "      <th>2</th>\n",
       "      <td>1</td>\n",
       "      <td>1</td>\n",
       "      <td>2010-02-19</td>\n",
       "      <td>41595.55</td>\n",
       "      <td>False</td>\n",
       "    </tr>\n",
       "    <tr>\n",
       "      <th>3</th>\n",
       "      <td>1</td>\n",
       "      <td>1</td>\n",
       "      <td>2010-02-26</td>\n",
       "      <td>19403.54</td>\n",
       "      <td>False</td>\n",
       "    </tr>\n",
       "    <tr>\n",
       "      <th>4</th>\n",
       "      <td>1</td>\n",
       "      <td>1</td>\n",
       "      <td>2010-03-05</td>\n",
       "      <td>21827.90</td>\n",
       "      <td>False</td>\n",
       "    </tr>\n",
       "  </tbody>\n",
       "</table>\n",
       "</div>"
      ],
      "text/plain": [
       "   Store  Dept        Date  Weekly_Sales  IsHoliday\n",
       "0      1     1  2010-02-05      24924.50      False\n",
       "1      1     1  2010-02-12      46039.49       True\n",
       "2      1     1  2010-02-19      41595.55      False\n",
       "3      1     1  2010-02-26      19403.54      False\n",
       "4      1     1  2010-03-05      21827.90      False"
      ]
     },
     "execution_count": 3,
     "metadata": {},
     "output_type": "execute_result"
    }
   ],
   "source": [
    "sales_data.head()"
   ]
  },
  {
   "cell_type": "code",
   "execution_count": 4,
   "metadata": {},
   "outputs": [
    {
     "data": {
      "text/plain": [
       "Store           0\n",
       "Dept            0\n",
       "Date            0\n",
       "Weekly_Sales    0\n",
       "IsHoliday       0\n",
       "dtype: int64"
      ]
     },
     "execution_count": 4,
     "metadata": {},
     "output_type": "execute_result"
    }
   ],
   "source": [
    "sales_data.isna().sum()"
   ]
  },
  {
   "cell_type": "code",
   "execution_count": 5,
   "metadata": {},
   "outputs": [
    {
     "data": {
      "text/plain": [
       "Store             int64\n",
       "Dept              int64\n",
       "Date             object\n",
       "Weekly_Sales    float64\n",
       "IsHoliday          bool\n",
       "dtype: object"
      ]
     },
     "execution_count": 5,
     "metadata": {},
     "output_type": "execute_result"
    }
   ],
   "source": [
    "sales_data.dtypes"
   ]
  },
  {
   "cell_type": "code",
   "execution_count": 6,
   "metadata": {},
   "outputs": [
    {
     "data": {
      "text/plain": [
       "(421570, 5)"
      ]
     },
     "execution_count": 6,
     "metadata": {},
     "output_type": "execute_result"
    }
   ],
   "source": [
    "sales_data.shape"
   ]
  },
  {
   "cell_type": "code",
   "execution_count": 7,
   "metadata": {},
   "outputs": [
    {
     "data": {
      "text/plain": [
       "Store               45\n",
       "Dept                81\n",
       "Date               143\n",
       "Weekly_Sales    359464\n",
       "IsHoliday            2\n",
       "dtype: int64"
      ]
     },
     "execution_count": 7,
     "metadata": {},
     "output_type": "execute_result"
    }
   ],
   "source": [
    "sales_data.nunique()"
   ]
  },
  {
   "cell_type": "code",
   "execution_count": 8,
   "metadata": {},
   "outputs": [
    {
     "data": {
      "text/html": [
       "<div>\n",
       "<style scoped>\n",
       "    .dataframe tbody tr th:only-of-type {\n",
       "        vertical-align: middle;\n",
       "    }\n",
       "\n",
       "    .dataframe tbody tr th {\n",
       "        vertical-align: top;\n",
       "    }\n",
       "\n",
       "    .dataframe thead th {\n",
       "        text-align: right;\n",
       "    }\n",
       "</style>\n",
       "<table border=\"1\" class=\"dataframe\">\n",
       "  <thead>\n",
       "    <tr style=\"text-align: right;\">\n",
       "      <th></th>\n",
       "      <th>Store</th>\n",
       "      <th>Dept</th>\n",
       "      <th>Weekly_Sales</th>\n",
       "    </tr>\n",
       "  </thead>\n",
       "  <tbody>\n",
       "    <tr>\n",
       "      <th>count</th>\n",
       "      <td>421570.000000</td>\n",
       "      <td>421570.000000</td>\n",
       "      <td>421570.000000</td>\n",
       "    </tr>\n",
       "    <tr>\n",
       "      <th>mean</th>\n",
       "      <td>22.200546</td>\n",
       "      <td>44.260317</td>\n",
       "      <td>15981.258123</td>\n",
       "    </tr>\n",
       "    <tr>\n",
       "      <th>std</th>\n",
       "      <td>12.785297</td>\n",
       "      <td>30.492054</td>\n",
       "      <td>22711.183519</td>\n",
       "    </tr>\n",
       "    <tr>\n",
       "      <th>min</th>\n",
       "      <td>1.000000</td>\n",
       "      <td>1.000000</td>\n",
       "      <td>-4988.940000</td>\n",
       "    </tr>\n",
       "    <tr>\n",
       "      <th>25%</th>\n",
       "      <td>11.000000</td>\n",
       "      <td>18.000000</td>\n",
       "      <td>2079.650000</td>\n",
       "    </tr>\n",
       "    <tr>\n",
       "      <th>50%</th>\n",
       "      <td>22.000000</td>\n",
       "      <td>37.000000</td>\n",
       "      <td>7612.030000</td>\n",
       "    </tr>\n",
       "    <tr>\n",
       "      <th>75%</th>\n",
       "      <td>33.000000</td>\n",
       "      <td>74.000000</td>\n",
       "      <td>20205.852500</td>\n",
       "    </tr>\n",
       "    <tr>\n",
       "      <th>max</th>\n",
       "      <td>45.000000</td>\n",
       "      <td>99.000000</td>\n",
       "      <td>693099.360000</td>\n",
       "    </tr>\n",
       "  </tbody>\n",
       "</table>\n",
       "</div>"
      ],
      "text/plain": [
       "               Store           Dept   Weekly_Sales\n",
       "count  421570.000000  421570.000000  421570.000000\n",
       "mean       22.200546      44.260317   15981.258123\n",
       "std        12.785297      30.492054   22711.183519\n",
       "min         1.000000       1.000000   -4988.940000\n",
       "25%        11.000000      18.000000    2079.650000\n",
       "50%        22.000000      37.000000    7612.030000\n",
       "75%        33.000000      74.000000   20205.852500\n",
       "max        45.000000      99.000000  693099.360000"
      ]
     },
     "execution_count": 8,
     "metadata": {},
     "output_type": "execute_result"
    }
   ],
   "source": [
    "sales_data.describe()"
   ]
  },
  {
   "cell_type": "code",
   "execution_count": 9,
   "metadata": {},
   "outputs": [
    {
     "data": {
      "text/plain": [
       "(1358, 5)"
      ]
     },
     "execution_count": 9,
     "metadata": {},
     "output_type": "execute_result"
    }
   ],
   "source": [
    "#now we wanna see if this is a systematic issue or random\n",
    "sales_data_check = sales_data.loc[sales_data['Weekly_Sales'] <= 0]\n",
    "sales_data_check.shape"
   ]
  },
  {
   "cell_type": "code",
   "execution_count": 10,
   "metadata": {},
   "outputs": [
    {
     "data": {
      "text/plain": [
       "Store            45\n",
       "Dept             51\n",
       "Date            143\n",
       "Weekly_Sales    679\n",
       "IsHoliday         2\n",
       "dtype: int64"
      ]
     },
     "execution_count": 10,
     "metadata": {},
     "output_type": "execute_result"
    }
   ],
   "source": [
    "sales_data_check.nunique()"
   ]
  },
  {
   "cell_type": "code",
   "execution_count": 11,
   "metadata": {},
   "outputs": [
    {
     "data": {
      "text/plain": [
       "0.003221291837654482"
      ]
     },
     "execution_count": 11,
     "metadata": {},
     "output_type": "execute_result"
    }
   ],
   "source": [
    "sales_data_check.shape[0]/sales_data.shape[0]"
   ]
  },
  {
   "cell_type": "code",
   "execution_count": 12,
   "metadata": {},
   "outputs": [],
   "source": [
    "sales_data['Store'] = sales_data['Store'].astype(str)\n",
    "sales_data['Dept'] = sales_data['Dept'].astype(str)\n",
    "sales_data['IsHoliday'] = sales_data['IsHoliday']*1"
   ]
  },
  {
   "cell_type": "code",
   "execution_count": 13,
   "metadata": {},
   "outputs": [
    {
     "data": {
      "text/plain": [
       "(420212, 5)"
      ]
     },
     "execution_count": 13,
     "metadata": {},
     "output_type": "execute_result"
    }
   ],
   "source": [
    "#Since it affects a small percentage of the data, lets drop these records\n",
    "sales_data2 = sales_data.loc[sales_data['Weekly_Sales']>0]\n",
    "sales_data2.shape"
   ]
  },
  {
   "cell_type": "code",
   "execution_count": 14,
   "metadata": {},
   "outputs": [
    {
     "data": {
      "text/plain": [
       "Store            object\n",
       "Dept             object\n",
       "Date             object\n",
       "Weekly_Sales    float64\n",
       "IsHoliday         int64\n",
       "dtype: object"
      ]
     },
     "execution_count": 14,
     "metadata": {},
     "output_type": "execute_result"
    }
   ],
   "source": [
    "sales_data2.dtypes"
   ]
  },
  {
   "cell_type": "code",
   "execution_count": 15,
   "metadata": {},
   "outputs": [],
   "source": [
    "#Creating a function that does all of the above tasks in one go\n",
    "def get_basic_stats(dfname):\n",
    "    print(\"Shape of dataframe is \" + str(dfname.shape))\n",
    "    print(\"Below are datatypes of columns in DF\")\n",
    "    print(dfname.dtypes.sort_values())\n",
    "    print(\"Below are missing values in each column\")\n",
    "    print(dfname.isna().sum().sort_values())\n",
    "    print(\"Below are the number of unique values taken by a column\")\n",
    "    print(dfname.nunique().sort_values())\n",
    "    print(\"Below are some records in DF\")\n",
    "    print(dfname.head())\n",
    "    print(\"Basic Stats for numeric variables\")\n",
    "    print(dfname.describe())"
   ]
  },
  {
   "cell_type": "code",
   "execution_count": 16,
   "metadata": {},
   "outputs": [
    {
     "name": "stdout",
     "output_type": "stream",
     "text": [
      "Shape of dataframe is (8190, 12)\n",
      "Below are datatypes of columns in DF\n",
      "IsHoliday          bool\n",
      "Store             int64\n",
      "Temperature     float64\n",
      "Fuel_Price      float64\n",
      "MarkDown1       float64\n",
      "MarkDown2       float64\n",
      "MarkDown3       float64\n",
      "MarkDown4       float64\n",
      "MarkDown5       float64\n",
      "CPI             float64\n",
      "Unemployment    float64\n",
      "Date             object\n",
      "dtype: object\n",
      "Below are missing values in each column\n",
      "Store              0\n",
      "Date               0\n",
      "Temperature        0\n",
      "Fuel_Price         0\n",
      "IsHoliday          0\n",
      "CPI              585\n",
      "Unemployment     585\n",
      "MarkDown5       4140\n",
      "MarkDown1       4158\n",
      "MarkDown3       4577\n",
      "MarkDown4       4726\n",
      "MarkDown2       5269\n",
      "dtype: int64\n",
      "Below are the number of unique values taken by a column\n",
      "IsHoliday          2\n",
      "Store             45\n",
      "Date             182\n",
      "Unemployment     404\n",
      "Fuel_Price      1011\n",
      "CPI             2505\n",
      "MarkDown2       2715\n",
      "MarkDown3       2885\n",
      "MarkDown4       3405\n",
      "MarkDown1       4023\n",
      "MarkDown5       4045\n",
      "Temperature     4178\n",
      "dtype: int64\n",
      "Below are some records in DF\n",
      "   Store        Date  Temperature  Fuel_Price  MarkDown1  MarkDown2  \\\n",
      "0      1  2010-02-05        42.31       2.572        NaN        NaN   \n",
      "1      1  2010-02-12        38.51       2.548        NaN        NaN   \n",
      "2      1  2010-02-19        39.93       2.514        NaN        NaN   \n",
      "3      1  2010-02-26        46.63       2.561        NaN        NaN   \n",
      "4      1  2010-03-05        46.50       2.625        NaN        NaN   \n",
      "\n",
      "   MarkDown3  MarkDown4  MarkDown5         CPI  Unemployment  IsHoliday  \n",
      "0        NaN        NaN        NaN  211.096358         8.106      False  \n",
      "1        NaN        NaN        NaN  211.242170         8.106       True  \n",
      "2        NaN        NaN        NaN  211.289143         8.106      False  \n",
      "3        NaN        NaN        NaN  211.319643         8.106      False  \n",
      "4        NaN        NaN        NaN  211.350143         8.106      False  \n",
      "Basic Stats for numeric variables\n",
      "             Store  Temperature   Fuel_Price      MarkDown1      MarkDown2  \\\n",
      "count  8190.000000  8190.000000  8190.000000    4032.000000    2921.000000   \n",
      "mean     23.000000    59.356198     3.405992    7032.371786    3384.176594   \n",
      "std      12.987966    18.678607     0.431337    9262.747448    8793.583016   \n",
      "min       1.000000    -7.290000     2.472000   -2781.450000    -265.760000   \n",
      "25%      12.000000    45.902500     3.041000    1577.532500      68.880000   \n",
      "50%      23.000000    60.710000     3.513000    4743.580000     364.570000   \n",
      "75%      34.000000    73.880000     3.743000    8923.310000    2153.350000   \n",
      "max      45.000000   101.950000     4.468000  103184.980000  104519.540000   \n",
      "\n",
      "           MarkDown3     MarkDown4      MarkDown5          CPI  Unemployment  \n",
      "count    3613.000000   3464.000000    4050.000000  7605.000000   7605.000000  \n",
      "mean     1760.100180   3292.935886    4132.216422   172.460809      7.826821  \n",
      "std     11276.462208   6792.329861   13086.690278    39.738346      1.877259  \n",
      "min      -179.260000      0.220000    -185.170000   126.064000      3.684000  \n",
      "25%         6.600000    304.687500    1440.827500   132.364839      6.634000  \n",
      "50%        36.260000   1176.425000    2727.135000   182.764003      7.806000  \n",
      "75%       163.150000   3310.007500    4832.555000   213.932412      8.567000  \n",
      "max    149483.310000  67474.850000  771448.100000   228.976456     14.313000  \n"
     ]
    }
   ],
   "source": [
    "get_basic_stats(features_data)"
   ]
  },
  {
   "cell_type": "markdown",
   "metadata": {},
   "source": [
    "get_basic_stats(stores_data)"
   ]
  },
  {
   "cell_type": "code",
   "execution_count": 17,
   "metadata": {},
   "outputs": [
    {
     "name": "stdout",
     "output_type": "stream",
     "text": [
      "Shape of dataframe is (45, 3)\n",
      "Below are datatypes of columns in DF\n",
      "Store     int64\n",
      "Size      int64\n",
      "Type     object\n",
      "dtype: object\n",
      "Below are missing values in each column\n",
      "Store    0\n",
      "Type     0\n",
      "Size     0\n",
      "dtype: int64\n",
      "Below are the number of unique values taken by a column\n",
      "Type      3\n",
      "Size     40\n",
      "Store    45\n",
      "dtype: int64\n",
      "Below are some records in DF\n",
      "   Store Type    Size\n",
      "0      1    A  151315\n",
      "1      2    A  202307\n",
      "2      3    B   37392\n",
      "3      4    A  205863\n",
      "4      5    B   34875\n",
      "Basic Stats for numeric variables\n",
      "           Store           Size\n",
      "count  45.000000      45.000000\n",
      "mean   23.000000  130287.600000\n",
      "std    13.133926   63825.271991\n",
      "min     1.000000   34875.000000\n",
      "25%    12.000000   70713.000000\n",
      "50%    23.000000  126512.000000\n",
      "75%    34.000000  202307.000000\n",
      "max    45.000000  219622.000000\n"
     ]
    }
   ],
   "source": [
    "get_basic_stats(stores_data)"
   ]
  },
  {
   "cell_type": "code",
   "execution_count": 18,
   "metadata": {},
   "outputs": [],
   "source": [
    "#coverting variable to correct datatype\n",
    "features_data['Store'] = features_data['Store'].astype(str)\n",
    "stores_data['Store'] = stores_data['Store'].astype(str)"
   ]
  },
  {
   "cell_type": "code",
   "execution_count": 19,
   "metadata": {},
   "outputs": [],
   "source": [
    "features_data2 = features_data.drop(['IsHoliday'], axis=1)"
   ]
  },
  {
   "cell_type": "markdown",
   "metadata": {},
   "source": [
    "# Missing Value Imputation"
   ]
  },
  {
   "cell_type": "code",
   "execution_count": 20,
   "metadata": {},
   "outputs": [],
   "source": [
    "features_data2['Unemployment'].fillna(features_data2['Unemployment'].mean(), inplace=True)\n",
    "features_data2['CPI'].fillna(features_data2['CPI'].mean(), inplace=True)"
   ]
  },
  {
   "cell_type": "code",
   "execution_count": 21,
   "metadata": {},
   "outputs": [],
   "source": [
    "#Markdown variables are missing in over half of the cases, and the most logical reason for that seems to be the absence \\\n",
    "#of any markdown in those cases  \n",
    "features_data2.fillna(0, inplace=True)"
   ]
  },
  {
   "cell_type": "code",
   "execution_count": 22,
   "metadata": {},
   "outputs": [
    {
     "data": {
      "text/html": [
       "<div>\n",
       "<style scoped>\n",
       "    .dataframe tbody tr th:only-of-type {\n",
       "        vertical-align: middle;\n",
       "    }\n",
       "\n",
       "    .dataframe tbody tr th {\n",
       "        vertical-align: top;\n",
       "    }\n",
       "\n",
       "    .dataframe thead th {\n",
       "        text-align: right;\n",
       "    }\n",
       "</style>\n",
       "<table border=\"1\" class=\"dataframe\">\n",
       "  <thead>\n",
       "    <tr style=\"text-align: right;\">\n",
       "      <th></th>\n",
       "      <th>Size</th>\n",
       "    </tr>\n",
       "    <tr>\n",
       "      <th>Type</th>\n",
       "      <th></th>\n",
       "    </tr>\n",
       "  </thead>\n",
       "  <tbody>\n",
       "    <tr>\n",
       "      <th>A</th>\n",
       "      <td>177247.727273</td>\n",
       "    </tr>\n",
       "    <tr>\n",
       "      <th>B</th>\n",
       "      <td>101190.705882</td>\n",
       "    </tr>\n",
       "    <tr>\n",
       "      <th>C</th>\n",
       "      <td>40541.666667</td>\n",
       "    </tr>\n",
       "  </tbody>\n",
       "</table>\n",
       "</div>"
      ],
      "text/plain": [
       "               Size\n",
       "Type               \n",
       "A     177247.727273\n",
       "B     101190.705882\n",
       "C      40541.666667"
      ]
     },
     "execution_count": 22,
     "metadata": {},
     "output_type": "execute_result"
    }
   ],
   "source": [
    "stores_data.groupby('Type').agg({'Size':'mean'})"
   ]
  },
  {
   "cell_type": "markdown",
   "metadata": {},
   "source": [
    "# Data preparation"
   ]
  },
  {
   "cell_type": "code",
   "execution_count": 23,
   "metadata": {},
   "outputs": [],
   "source": [
    "#Stores unique key = Store\n",
    "#Features Data - Store+Date\n",
    "#Store+Dept+Date"
   ]
  },
  {
   "cell_type": "code",
   "execution_count": 24,
   "metadata": {},
   "outputs": [
    {
     "data": {
      "text/plain": [
       "0"
      ]
     },
     "execution_count": 24,
     "metadata": {},
     "output_type": "execute_result"
    }
   ],
   "source": [
    "features_data2.groupby(['Store', 'Date']).size().shape[0] - features_data2.shape[0]"
   ]
  },
  {
   "cell_type": "code",
   "execution_count": 25,
   "metadata": {},
   "outputs": [
    {
     "data": {
      "text/plain": [
       "0"
      ]
     },
     "execution_count": 25,
     "metadata": {},
     "output_type": "execute_result"
    }
   ],
   "source": [
    "sales_data.groupby(['Store', 'Dept', 'Date']).size().shape[0] - sales_data.shape[0]"
   ]
  },
  {
   "cell_type": "code",
   "execution_count": 26,
   "metadata": {},
   "outputs": [
    {
     "data": {
      "text/plain": [
       "(420212, 14)"
      ]
     },
     "execution_count": 26,
     "metadata": {},
     "output_type": "execute_result"
    }
   ],
   "source": [
    "#Merging datasets\n",
    "sales_features_data = pd.merge(sales_data2, features_data2, on=['Store', 'Date'], how='inner')\n",
    "sales_features_data.shape"
   ]
  },
  {
   "cell_type": "code",
   "execution_count": 27,
   "metadata": {},
   "outputs": [
    {
     "data": {
      "text/plain": [
       "(420212, 16)"
      ]
     },
     "execution_count": 27,
     "metadata": {},
     "output_type": "execute_result"
    }
   ],
   "source": [
    "combined_data = pd.merge(sales_features_data, stores_data, on='Store', how='inner')\n",
    "combined_data.shape"
   ]
  },
  {
   "cell_type": "markdown",
   "metadata": {},
   "source": [
    "# Dividing data into train and test "
   ]
  },
  {
   "cell_type": "code",
   "execution_count": 28,
   "metadata": {},
   "outputs": [],
   "source": [
    "#getting the date variable in the correct format\n",
    "combined_data['Date2'] = pd.to_datetime(combined_data['Date'], format = '%Y-%m-%d')"
   ]
  },
  {
   "cell_type": "code",
   "execution_count": 29,
   "metadata": {},
   "outputs": [
    {
     "name": "stdout",
     "output_type": "stream",
     "text": [
      "143\n"
     ]
    },
    {
     "data": {
      "text/plain": [
       "Timedelta('142 days 00:00:00')"
      ]
     },
     "execution_count": 29,
     "metadata": {},
     "output_type": "execute_result"
    }
   ],
   "source": [
    "#match the number of weeks of difference with the number of distinct weeks in the data\n",
    "print(combined_data['Date2'].nunique())\n",
    "(combined_data['Date2'].max() - combined_data['Date2'].min())/7#1 week should be added to this"
   ]
  },
  {
   "cell_type": "code",
   "execution_count": 30,
   "metadata": {},
   "outputs": [
    {
     "data": {
      "text/plain": [
       "Timestamp('2011-12-30 00:00:00')"
      ]
     },
     "execution_count": 30,
     "metadata": {},
     "output_type": "execute_result"
    }
   ],
   "source": [
    "#Getting the date that comes at 70% of the data and using it to divide the original data\n",
    "unique_dates = pd.DataFrame(combined_data['Date2'].unique(), columns = ['date'])\n",
    "unique_dates.sort_values('date', inplace = True)\n",
    "splitter = round(unique_dates.shape[0]*0.7, 0)\n",
    "split_date=unique_dates.iloc[int(splitter)-1]['date']\n",
    "split_date"
   ]
  },
  {
   "cell_type": "code",
   "execution_count": 31,
   "metadata": {},
   "outputs": [
    {
     "data": {
      "text/plain": [
       "0.6977525629920136"
      ]
     },
     "execution_count": 31,
     "metadata": {},
     "output_type": "execute_result"
    }
   ],
   "source": [
    "#Using that date to make the split\n",
    "combined_data_train = combined_data.loc[combined_data['Date2'] <= split_date]\n",
    "combined_data_test = combined_data.loc[combined_data['Date2'] > split_date]\n",
    "combined_data_train.shape[0]/combined_data.shape[0]"
   ]
  },
  {
   "cell_type": "markdown",
   "metadata": {},
   "source": [
    "# Univariate Analysis"
   ]
  },
  {
   "cell_type": "code",
   "execution_count": 32,
   "metadata": {},
   "outputs": [
    {
     "data": {
      "text/plain": [
       "(array([7157., 7140., 6309., 7175., 6286., 7121., 6796., 6909., 6158.,\n",
       "        7206., 6988., 6736., 7324., 6995., 6886., 6482., 6823., 6818.,\n",
       "        7077., 7119., 6651., 6733., 7017., 7137., 6824., 6867., 7127.,\n",
       "        7058., 6604., 4990., 7071., 7122., 4470., 7177., 6586., 4321.,\n",
       "        4947., 5066., 6885., 6979., 6987., 4729., 4707., 4932., 6712.]),\n",
       " array([ 0.        ,  0.97777778,  1.95555556,  2.93333333,  3.91111111,\n",
       "         4.88888889,  5.86666667,  6.84444444,  7.82222222,  8.8       ,\n",
       "         9.77777778, 10.75555556, 11.73333333, 12.71111111, 13.68888889,\n",
       "        14.66666667, 15.64444444, 16.62222222, 17.6       , 18.57777778,\n",
       "        19.55555556, 20.53333333, 21.51111111, 22.48888889, 23.46666667,\n",
       "        24.44444444, 25.42222222, 26.4       , 27.37777778, 28.35555556,\n",
       "        29.33333333, 30.31111111, 31.28888889, 32.26666667, 33.24444444,\n",
       "        34.22222222, 35.2       , 36.17777778, 37.15555556, 38.13333333,\n",
       "        39.11111111, 40.08888889, 41.06666667, 42.04444444, 43.02222222,\n",
       "        44.        ]),\n",
       " <a list of 45 Patch objects>)"
      ]
     },
     "execution_count": 32,
     "metadata": {},
     "output_type": "execute_result"
    },
    {
     "data": {
      "image/png": "[encoded data removed]",
      "text/plain": [
       "<Figure size 1440x720 with 1 Axes>"
      ]
     },
     "metadata": {
      "needs_background": "light"
     },
     "output_type": "display_data"
    }
   ],
   "source": [
    "plt.figure(figsize=(20,10))\n",
    "plt.hist(list(combined_data_train['Store']), bins = combined_data_train['Store'].nunique() )"
   ]
  },
  {
   "cell_type": "code",
   "execution_count": 33,
   "metadata": {},
   "outputs": [
    {
     "data": {
      "image/png": "[encoded data removed]",
      "text/plain": [
       "<Figure size 1440x720 with 1 Axes>"
      ]
     },
     "metadata": {
      "needs_background": "light"
     },
     "output_type": "display_data"
    },
    {
     "data": {
      "image/png": "[encoded data removed]",
      "text/plain": [
       "<Figure size 1440x720 with 1 Axes>"
      ]
     },
     "metadata": {
      "needs_background": "light"
     },
     "output_type": "display_data"
    },
    {
     "data": {
      "image/png": "[encoded data removed]",
      "text/plain": [
       "<Figure size 1440x720 with 1 Axes>"
      ]
     },
     "metadata": {
      "needs_background": "light"
     },
     "output_type": "display_data"
    },
    {
     "data": {
      "image/png": "[encoded data removed]",
      "text/plain": [
       "<Figure size 1440x720 with 1 Axes>"
      ]
     },
     "metadata": {
      "needs_background": "light"
     },
     "output_type": "display_data"
    }
   ],
   "source": [
    "cat_columns = combined_data_train.select_dtypes(np.object).columns.tolist()\n",
    "#univariate analysis of categorical variables\n",
    "for var in cat_columns:\n",
    "    plt.figure(figsize = (20,10))\n",
    "    plt.hist(list(combined_data_train[var]), bins = combined_data_train[var].nunique() )\n",
    "    plt.title(var)\n",
    "    plt.show"
   ]
  },
  {
   "cell_type": "code",
   "execution_count": 34,
   "metadata": {},
   "outputs": [
    {
     "data": {
      "text/plain": [
       "['Temperature',\n",
       " 'CPI',\n",
       " 'Weekly_Sales',\n",
       " 'Size',\n",
       " 'Unemployment',\n",
       " 'IsHoliday',\n",
       " 'Fuel_Price']"
      ]
     },
     "execution_count": 34,
     "metadata": {},
     "output_type": "execute_result"
    }
   ],
   "source": [
    "num_columns = combined_data_train.select_dtypes(np.number).columns.tolist()\n",
    "mark_columns = [x for x in num_columns if 'Mark' in x]\n",
    "mark_columns\n",
    "nonmark_columns = list(set(num_columns).difference(set(mark_columns)))\n",
    "nonmark_columns"
   ]
  },
  {
   "cell_type": "code",
   "execution_count": 35,
   "metadata": {},
   "outputs": [
    {
     "data": {
      "text/plain": [
       "<matplotlib.axes._subplots.AxesSubplot at 0x7f8c1ae0a880>"
      ]
     },
     "execution_count": 35,
     "metadata": {},
     "output_type": "execute_result"
    },
    {
     "data": {
      "image/png": "[encoded data removed]",
      "text/plain": [
       "<Figure size 1440x720 with 1 Axes>"
      ]
     },
     "metadata": {
      "needs_background": "light"
     },
     "output_type": "display_data"
    }
   ],
   "source": [
    "combined_data_train.boxplot(column = mark_columns, figsize=(20,10))"
   ]
  },
  {
   "cell_type": "code",
   "execution_count": 36,
   "metadata": {},
   "outputs": [
    {
     "data": {
      "image/png": "[encoded data removed]",
      "text/plain": [
       "<Figure size 1440x720 with 1 Axes>"
      ]
     },
     "metadata": {
      "needs_background": "light"
     },
     "output_type": "display_data"
    },
    {
     "data": {
      "image/png": "[encoded data removed]",
      "text/plain": [
       "<Figure size 1440x720 with 1 Axes>"
      ]
     },
     "metadata": {
      "needs_background": "light"
     },
     "output_type": "display_data"
    },
    {
     "data": {
      "image/png": "[encoded data removed]",
      "text/plain": [
       "<Figure size 1440x720 with 1 Axes>"
      ]
     },
     "metadata": {
      "needs_background": "light"
     },
     "output_type": "display_data"
    },
    {
     "data": {
      "image/png": "[encoded data removed]",
      "text/plain": [
       "<Figure size 1440x720 with 1 Axes>"
      ]
     },
     "metadata": {
      "needs_background": "light"
     },
     "output_type": "display_data"
    },
    {
     "data": {
      "image/png": "[encoded data removed]",
      "text/plain": [
       "<Figure size 1440x720 with 1 Axes>"
      ]
     },
     "metadata": {
      "needs_background": "light"
     },
     "output_type": "display_data"
    },
    {
     "data": {
      "image/png": "[encoded data removed]",
      "text/plain": [
       "<Figure size 1440x720 with 1 Axes>"
      ]
     },
     "metadata": {
      "needs_background": "light"
     },
     "output_type": "display_data"
    },
    {
     "data": {
      "image/png": "[encoded data removed]",
      "text/plain": [
       "<Figure size 1440x720 with 1 Axes>"
      ]
     },
     "metadata": {
      "needs_background": "light"
     },
     "output_type": "display_data"
    }
   ],
   "source": [
    "for var in nonmark_columns:\n",
    "    combined_data_train.boxplot(column = var, figsize=(20,10))\n",
    "    plt.show()"
   ]
  },
  {
   "cell_type": "markdown",
   "metadata": {},
   "source": [
    "# Bivariate Analysis"
   ]
  },
  {
   "cell_type": "code",
   "execution_count": 37,
   "metadata": {},
   "outputs": [
    {
     "data": {
      "text/html": [
       "<div>\n",
       "<style scoped>\n",
       "    .dataframe tbody tr th:only-of-type {\n",
       "        vertical-align: middle;\n",
       "    }\n",
       "\n",
       "    .dataframe tbody tr th {\n",
       "        vertical-align: top;\n",
       "    }\n",
       "\n",
       "    .dataframe thead th {\n",
       "        text-align: right;\n",
       "    }\n",
       "</style>\n",
       "<table border=\"1\" class=\"dataframe\">\n",
       "  <thead>\n",
       "    <tr style=\"text-align: right;\">\n",
       "      <th></th>\n",
       "      <th>IsHoliday</th>\n",
       "      <th>Temperature</th>\n",
       "      <th>Fuel_Price</th>\n",
       "      <th>MarkDown1</th>\n",
       "      <th>MarkDown2</th>\n",
       "      <th>MarkDown3</th>\n",
       "      <th>MarkDown4</th>\n",
       "      <th>MarkDown5</th>\n",
       "      <th>CPI</th>\n",
       "      <th>Unemployment</th>\n",
       "      <th>Size</th>\n",
       "    </tr>\n",
       "  </thead>\n",
       "  <tbody>\n",
       "    <tr>\n",
       "      <th>0</th>\n",
       "      <td>0</td>\n",
       "      <td>42.31</td>\n",
       "      <td>2.572</td>\n",
       "      <td>0.0</td>\n",
       "      <td>0.0</td>\n",
       "      <td>0.0</td>\n",
       "      <td>0.0</td>\n",
       "      <td>0.0</td>\n",
       "      <td>211.096358</td>\n",
       "      <td>8.106</td>\n",
       "      <td>151315</td>\n",
       "    </tr>\n",
       "    <tr>\n",
       "      <th>1</th>\n",
       "      <td>0</td>\n",
       "      <td>42.31</td>\n",
       "      <td>2.572</td>\n",
       "      <td>0.0</td>\n",
       "      <td>0.0</td>\n",
       "      <td>0.0</td>\n",
       "      <td>0.0</td>\n",
       "      <td>0.0</td>\n",
       "      <td>211.096358</td>\n",
       "      <td>8.106</td>\n",
       "      <td>151315</td>\n",
       "    </tr>\n",
       "    <tr>\n",
       "      <th>2</th>\n",
       "      <td>0</td>\n",
       "      <td>42.31</td>\n",
       "      <td>2.572</td>\n",
       "      <td>0.0</td>\n",
       "      <td>0.0</td>\n",
       "      <td>0.0</td>\n",
       "      <td>0.0</td>\n",
       "      <td>0.0</td>\n",
       "      <td>211.096358</td>\n",
       "      <td>8.106</td>\n",
       "      <td>151315</td>\n",
       "    </tr>\n",
       "    <tr>\n",
       "      <th>3</th>\n",
       "      <td>0</td>\n",
       "      <td>42.31</td>\n",
       "      <td>2.572</td>\n",
       "      <td>0.0</td>\n",
       "      <td>0.0</td>\n",
       "      <td>0.0</td>\n",
       "      <td>0.0</td>\n",
       "      <td>0.0</td>\n",
       "      <td>211.096358</td>\n",
       "      <td>8.106</td>\n",
       "      <td>151315</td>\n",
       "    </tr>\n",
       "    <tr>\n",
       "      <th>4</th>\n",
       "      <td>0</td>\n",
       "      <td>42.31</td>\n",
       "      <td>2.572</td>\n",
       "      <td>0.0</td>\n",
       "      <td>0.0</td>\n",
       "      <td>0.0</td>\n",
       "      <td>0.0</td>\n",
       "      <td>0.0</td>\n",
       "      <td>211.096358</td>\n",
       "      <td>8.106</td>\n",
       "      <td>151315</td>\n",
       "    </tr>\n",
       "  </tbody>\n",
       "</table>\n",
       "</div>"
      ],
      "text/plain": [
       "   IsHoliday  Temperature  Fuel_Price  MarkDown1  MarkDown2  MarkDown3  \\\n",
       "0          0        42.31       2.572        0.0        0.0        0.0   \n",
       "1          0        42.31       2.572        0.0        0.0        0.0   \n",
       "2          0        42.31       2.572        0.0        0.0        0.0   \n",
       "3          0        42.31       2.572        0.0        0.0        0.0   \n",
       "4          0        42.31       2.572        0.0        0.0        0.0   \n",
       "\n",
       "   MarkDown4  MarkDown5         CPI  Unemployment    Size  \n",
       "0        0.0        0.0  211.096358         8.106  151315  \n",
       "1        0.0        0.0  211.096358         8.106  151315  \n",
       "2        0.0        0.0  211.096358         8.106  151315  \n",
       "3        0.0        0.0  211.096358         8.106  151315  \n",
       "4        0.0        0.0  211.096358         8.106  151315  "
      ]
     },
     "execution_count": 37,
     "metadata": {},
     "output_type": "execute_result"
    }
   ],
   "source": [
    "#Keeping the numeric predictors\n",
    "train_num = combined_data_train[num_columns]\n",
    "train_num = train_num.drop(['Weekly_Sales'], axis=1)\n",
    "train_num.head()"
   ]
  },
  {
   "cell_type": "code",
   "execution_count": 38,
   "metadata": {},
   "outputs": [
    {
     "name": "stdout",
     "output_type": "stream",
     "text": [
      "(121, 3)\n",
      "(55, 3)\n"
     ]
    },
    {
     "name": "stderr",
     "output_type": "stream",
     "text": [
      "<ipython-input-38-a19a36a79baf>:7: SettingWithCopyWarning: \n",
      "A value is trying to be set on a copy of a slice from a DataFrame.\n",
      "Try using .loc[row_indexer,col_indexer] = value instead\n",
      "\n",
      "See the caveats in the documentation: https://pandas.pydata.org/pandas-docs/stable/user_guide/indexing.html#returning-a-view-versus-a-copy\n",
      "  corr_values2['corr_abs'] = corr_values2['corr_value'].abs()\n",
      "<ipython-input-38-a19a36a79baf>:8: SettingWithCopyWarning: \n",
      "A value is trying to be set on a copy of a slice from a DataFrame\n",
      "\n",
      "See the caveats in the documentation: https://pandas.pydata.org/pandas-docs/stable/user_guide/indexing.html#returning-a-view-versus-a-copy\n",
      "  corr_values2.sort_values( 'corr_abs', ascending=False, inplace=True)\n"
     ]
    },
    {
     "data": {
      "text/html": [
       "<div>\n",
       "<style scoped>\n",
       "    .dataframe tbody tr th:only-of-type {\n",
       "        vertical-align: middle;\n",
       "    }\n",
       "\n",
       "    .dataframe tbody tr th {\n",
       "        vertical-align: top;\n",
       "    }\n",
       "\n",
       "    .dataframe thead th {\n",
       "        text-align: right;\n",
       "    }\n",
       "</style>\n",
       "<table border=\"1\" class=\"dataframe\">\n",
       "  <thead>\n",
       "    <tr style=\"text-align: right;\">\n",
       "      <th></th>\n",
       "      <th>var1</th>\n",
       "      <th>var2</th>\n",
       "      <th>corr_value</th>\n",
       "      <th>corr_abs</th>\n",
       "    </tr>\n",
       "  </thead>\n",
       "  <tbody>\n",
       "    <tr>\n",
       "      <th>69</th>\n",
       "      <td>MarkDown4</td>\n",
       "      <td>MarkDown1</td>\n",
       "      <td>0.764146</td>\n",
       "      <td>0.764146</td>\n",
       "    </tr>\n",
       "    <tr>\n",
       "      <th>83</th>\n",
       "      <td>MarkDown5</td>\n",
       "      <td>MarkDown4</td>\n",
       "      <td>0.673759</td>\n",
       "      <td>0.673759</td>\n",
       "    </tr>\n",
       "    <tr>\n",
       "      <th>80</th>\n",
       "      <td>MarkDown5</td>\n",
       "      <td>MarkDown1</td>\n",
       "      <td>0.573937</td>\n",
       "      <td>0.573937</td>\n",
       "    </tr>\n",
       "    <tr>\n",
       "      <th>47</th>\n",
       "      <td>MarkDown2</td>\n",
       "      <td>MarkDown1</td>\n",
       "      <td>0.364552</td>\n",
       "      <td>0.364552</td>\n",
       "    </tr>\n",
       "    <tr>\n",
       "      <th>107</th>\n",
       "      <td>Unemployment</td>\n",
       "      <td>CPI</td>\n",
       "      <td>-0.298205</td>\n",
       "      <td>0.298205</td>\n",
       "    </tr>\n",
       "    <tr>\n",
       "      <th>55</th>\n",
       "      <td>MarkDown3</td>\n",
       "      <td>IsHoliday</td>\n",
       "      <td>0.296824</td>\n",
       "      <td>0.296824</td>\n",
       "    </tr>\n",
       "    <tr>\n",
       "      <th>44</th>\n",
       "      <td>MarkDown2</td>\n",
       "      <td>IsHoliday</td>\n",
       "      <td>0.272442</td>\n",
       "      <td>0.272442</td>\n",
       "    </tr>\n",
       "    <tr>\n",
       "      <th>70</th>\n",
       "      <td>MarkDown4</td>\n",
       "      <td>MarkDown2</td>\n",
       "      <td>0.232324</td>\n",
       "      <td>0.232324</td>\n",
       "    </tr>\n",
       "    <tr>\n",
       "      <th>30</th>\n",
       "      <td>Fuel_Price</td>\n",
       "      <td>CPI</td>\n",
       "      <td>-0.180454</td>\n",
       "      <td>0.180454</td>\n",
       "    </tr>\n",
       "    <tr>\n",
       "      <th>11</th>\n",
       "      <td>Temperature</td>\n",
       "      <td>IsHoliday</td>\n",
       "      <td>-0.178936</td>\n",
       "      <td>0.178936</td>\n",
       "    </tr>\n",
       "  </tbody>\n",
       "</table>\n",
       "</div>"
      ],
      "text/plain": [
       "             var1       var2  corr_value  corr_abs\n",
       "69      MarkDown4  MarkDown1    0.764146  0.764146\n",
       "83      MarkDown5  MarkDown4    0.673759  0.673759\n",
       "80      MarkDown5  MarkDown1    0.573937  0.573937\n",
       "47      MarkDown2  MarkDown1    0.364552  0.364552\n",
       "107  Unemployment        CPI   -0.298205  0.298205\n",
       "55      MarkDown3  IsHoliday    0.296824  0.296824\n",
       "44      MarkDown2  IsHoliday    0.272442  0.272442\n",
       "70      MarkDown4  MarkDown2    0.232324  0.232324\n",
       "30     Fuel_Price        CPI   -0.180454  0.180454\n",
       "11    Temperature  IsHoliday   -0.178936  0.178936"
      ]
     },
     "execution_count": 38,
     "metadata": {},
     "output_type": "execute_result"
    }
   ],
   "source": [
    "#Checking the highly correlated variables\n",
    "corr_values = train_num.corr().unstack().reset_index()\n",
    "print(corr_values.shape)\n",
    "corr_values2 = corr_values[corr_values['level_0'] > corr_values['level_1'] ]\n",
    "print(corr_values2.shape)\n",
    "corr_values2.columns = ['var1', 'var2', 'corr_value']\n",
    "corr_values2['corr_abs'] = corr_values2['corr_value'].abs()\n",
    "corr_values2.sort_values( 'corr_abs', ascending=False, inplace=True)\n",
    "corr_values2.head(10)"
   ]
  },
  {
   "cell_type": "code",
   "execution_count": 39,
   "metadata": {},
   "outputs": [
    {
     "data": {
      "text/plain": [
       "<matplotlib.axes._subplots.AxesSubplot at 0x7f8c0af61940>"
      ]
     },
     "execution_count": 39,
     "metadata": {},
     "output_type": "execute_result"
    },
    {
     "data": {
      "image/png": "[encoded data removed]",
      "text/plain": [
       "<Figure size 864x864 with 2 Axes>"
      ]
     },
     "metadata": {
      "needs_background": "light"
     },
     "output_type": "display_data"
    }
   ],
   "source": [
    "#creating a heat map to see the degree of correlation visually\n",
    "plt.figure(figsize=(12, 12))\n",
    "vg_corr = train_num.corr().abs()\n",
    "sns.heatmap(vg_corr, xticklabels = vg_corr.columns.values,yticklabels = vg_corr.columns.values, annot = True)"
   ]
  },
  {
   "cell_type": "code",
   "execution_count": null,
   "metadata": {},
   "outputs": [],
   "source": [
    "#Plotting each numeric predictor against the other\n",
    "sns.pairplot(train_num)"
   ]
  },
  {
   "cell_type": "markdown",
   "metadata": {},
   "source": [
    "# Variable trend with Dependent Variable"
   ]
  },
  {
   "cell_type": "code",
   "execution_count": null,
   "metadata": {},
   "outputs": [],
   "source": [
    "#Looking at average weekly Sales by STORE, DEPT...directly taking average will lead to incorrect result..\n",
    "for var in ['Store', 'Dept']:\n",
    "    print(var)\n",
    "    agg_temp = combined_data_train.groupby([var, 'Date'], as_index=False).agg({'Weekly_Sales': 'sum'})\n",
    "    agg_temp2 = agg_temp.groupby([var], as_index=False).agg({'Weekly_Sales': 'mean'})\n",
    "    agg_temp2[var] = pd.to_numeric(agg_temp2[var])\n",
    "    agg_temp2.sort_values(var, inplace=True)\n",
    "    print(agg_temp2.head())\n",
    "    plt.figure(figsize=(20,10))\n",
    "    plt.title('Avg Weekly Sales by ' + var)\n",
    "    plt.barh(agg_temp2[var], agg_temp2['Weekly_Sales'])"
   ]
  },
  {
   "cell_type": "code",
   "execution_count": null,
   "metadata": {},
   "outputs": [],
   "source": [
    "#Using scatter plot to check trend of predictors with dependent variable\n",
    "var_list = [x for x in combined_data_train.columns]\n",
    "columnstodrop = ['Weekly_Sales', 'Date']\n",
    "var_list = list(set(var_list).difference(set(columnstodrop)))\n",
    "for varname in var_list:\n",
    "    plt.figure(figsize=(20,10))\n",
    "    plt.scatter(combined_data_train[varname], combined_data_train['Weekly_Sales'])\n",
    "    plt.xlabel(varname); plt.ylabel(\"Weekly_Sales\")\n"
   ]
  },
  {
   "cell_type": "code",
   "execution_count": null,
   "metadata": {},
   "outputs": [],
   "source": [
    "#check trend of dependent variable with other variables\n",
    "all_corr = combined_data_train.corr().unstack().reset_index()\n",
    "print(all_corr.shape)\n",
    "corr_table = all_corr[all_corr['level_1'] =='Weekly_Sales' ]\n",
    "corr_table = corr_table.loc[ (corr_table['level_0'] != 'Weekly_Sales') ]\n",
    "print(corr_table.shape)\n",
    "corr_table.columns = ['var1', 'var2', 'corr_value']\n",
    "corr_table['corr_abs'] = corr_table['corr_value'].abs()\n",
    "corr_table = corr_table.sort_values(by= ['corr_abs'], ascending = False )\n",
    "corr_table"
   ]
  },
  {
   "cell_type": "markdown",
   "metadata": {},
   "source": [
    "#  Date trends"
   ]
  },
  {
   "cell_type": "code",
   "execution_count": null,
   "metadata": {},
   "outputs": [],
   "source": [
    "#Adding the week number and year column \n",
    "combined_data_train['week_number'] = combined_data_train['Date2'].dt.week\n",
    "combined_data_train['year_number'] = combined_data_train['Date2'].dt.year"
   ]
  },
  {
   "cell_type": "code",
   "execution_count": null,
   "metadata": {},
   "outputs": [],
   "source": [
    "#Checking the holiday weeks with highest total sales \n",
    "temper = combined_data_train.groupby('Date', as_index=False).agg({'Weekly_Sales':'sum'})\n",
    "print(temper['Weekly_Sales'].mean())\n",
    "temper = combined_data_train.groupby(['Date', 'IsHoliday', 'week_number', 'year_number'], as_index=False).agg({'Weekly_Sales':'sum'})\n",
    "temper.loc[temper['IsHoliday'] == 1].sort_values(by = 'Weekly_Sales', ascending=False)"
   ]
  },
  {
   "cell_type": "code",
   "execution_count": null,
   "metadata": {},
   "outputs": [],
   "source": [
    "#Checking the weeks with highest total sales..please note that most of them are non holidays\n",
    "temper.sort_values(by = 'Weekly_Sales', ascending=False).head(20)"
   ]
  },
  {
   "cell_type": "code",
   "execution_count": null,
   "metadata": {},
   "outputs": [],
   "source": [
    "#Checking weekly Sales of different years juxtaposed\n",
    "another_agg = combined_data_train.groupby(['week_number', 'year_number', 'IsHoliday'], as_index=False).agg({ 'Weekly_Sales' : 'sum'})\n",
    "plt.figure(figsize=(20,10))\n",
    "plt.title('Total Juxtaposed Weekly Sales')\n",
    "sns.lineplot(x=\"week_number\", y=\"Weekly_Sales\", hue=\"year_number\", data = another_agg, marker = 'o')"
   ]
  },
  {
   "cell_type": "code",
   "execution_count": null,
   "metadata": {},
   "outputs": [],
   "source": [
    "#Checking total weekly Sales of different Stores\n",
    "for var in ['Store', 'Dept']:\n",
    "    agg_temp = combined_data_train.groupby(['Date2', var], as_index=False).agg({ 'Weekly_Sales' : 'sum'})\n",
    "    print(agg_temp.sort_values(by='Weekly_Sales', ascending=False).head(10))\n",
    "    plt.figure(figsize=(20,10))\n",
    "    plt.title('Total Weekly Sales by ' + var)\n",
    "    agg_temp[var] = pd.to_numeric(agg_temp[var])#The hue variable has to be numerical \n",
    "    sns.lineplot(x=\"Date2\", y=\"Weekly_Sales\", hue=var, data = agg_temp, marker = 'o')"
   ]
  },
  {
   "cell_type": "code",
   "execution_count": null,
   "metadata": {},
   "outputs": [],
   "source": [
    "#Checking weekly Sales of different years juxtaposed..by Store and by Dept\n",
    "for var in ['Store', 'Dept']:\n",
    "    another_agg = combined_data_train.groupby([var, 'week_number', 'year_number', 'IsHoliday'], as_index=False).agg({ 'Weekly_Sales' : 'sum'})\n",
    "    for idd in another_agg[var].unique() :\n",
    "        temper = another_agg.loc[ another_agg[var] == idd ]\n",
    "        print(temper.shape)\n",
    "        plt.figure(figsize=(20,10))\n",
    "        plt.title('Total Juxtaposed Weekly Sales by ' + var + \" \" + idd)\n",
    "        sns.lineplot(x=\"week_number\", y=\"Weekly_Sales\", hue=\"year_number\", data = temper, marker = 'o')\n"
   ]
  },
  {
   "cell_type": "markdown",
   "metadata": {},
   "source": [
    "# Feature Creation"
   ]
  },
  {
   "cell_type": "code",
   "execution_count": null,
   "metadata": {},
   "outputs": [],
   "source": [
    "#marking the holiday names\n",
    "conditions = [combined_data_train['IsHoliday'] == 0, combined_data_train['week_number'] == 52, combined_data_train['week_number'] == 47, \\\n",
    "             combined_data_train['week_number'] == 36, combined_data_train['week_number'] == 6]\n",
    "choices = ['no_holiday', 'christmas', 'thanksgiving', 'labor_day', 'super_bowl']\n",
    "combined_data_train['holiday_type' ] = np.select(conditions, choices, default=np.nan)\n",
    "combined_data_train['holiday_type'].value_counts()"
   ]
  },
  {
   "cell_type": "code",
   "execution_count": null,
   "metadata": {},
   "outputs": [],
   "source": [
    "#function to create sales rush weeks \n",
    "def season_variables(df):\n",
    "    df['week_number'] = df['Date2'].dt.week\n",
    "    df['year_number'] = df['Date2'].dt.year\n",
    "    conditions = [df['IsHoliday'] == 0, df['week_number'] == 52, df['week_number'] == 47, \\\n",
    "                 df['week_number'] == 36, df['week_number'] == 6]\n",
    "    choices = ['no_holiday', 'christmas', 'thanksgiving', 'labor_day', 'super_bowl']\n",
    "    df['holiday_type' ] = np.select(conditions, choices, default=np.nan)\n",
    "    print(df['holiday_type'].value_counts())\n",
    "    christmas_df = pd.DataFrame(df[df['holiday_type'] == 'christmas' ]['Date2'].unique())\n",
    "    christmas_df.columns = ['christmas_week']\n",
    "    christmas_df['minus1'] = christmas_df['christmas_week'] -  pd.to_timedelta(7, unit='d')\n",
    "    christmas_df['minus2'] = christmas_df['christmas_week'] -  pd.to_timedelta(14, unit='d')\n",
    "    christmas_df['minus3'] = christmas_df['christmas_week'] -  pd.to_timedelta(21, unit='d')\n",
    "    #creating all the 5 binary variables\n",
    "    df['christmas_week'] = np.where(df['Date2'].isin(list(christmas_df['christmas_week']) ),1,0 )\n",
    "    df['christmas_minus1'] = np.where(df['Date2'].isin(list(christmas_df['minus1']) ),1,0 )\n",
    "    df['christmas_minus2'] = np.where(df['Date2'].isin(list(christmas_df['minus2']) ),1,0 )\n",
    "    df['christmas_minus3'] = np.where(df['Date2'].isin(list(christmas_df['minus3']) ),1,0 )\n",
    "    df['thanksgiving_week'] = np.where(df['holiday_type'] == 'thanksgiving', 1, 0)\n",
    "    print(df['christmas_week'].value_counts())\n",
    "    print(df['christmas_minus1'].value_counts())\n",
    "    print(df['christmas_minus2'].value_counts())\n",
    "    print(df['christmas_minus3'].value_counts())\n",
    "    print(df['thanksgiving_week'].value_counts())\n",
    "    return df"
   ]
  },
  {
   "cell_type": "code",
   "execution_count": null,
   "metadata": {},
   "outputs": [],
   "source": [
    "combined_data_train = season_variables(combined_data_train)"
   ]
  },
  {
   "cell_type": "code",
   "execution_count": null,
   "metadata": {},
   "outputs": [],
   "source": [
    "combined_data_test = season_variables(combined_data_test)"
   ]
  },
  {
   "cell_type": "code",
   "execution_count": null,
   "metadata": {},
   "outputs": [],
   "source": [
    "#Creating another feature..Prediction based on Store and Dept\n",
    "store_dept_median = combined_data_train.groupby(['Store', 'Dept'], as_index=False).agg({'Weekly_Sales' :  ['median']})\n",
    "print(store_dept_median.shape)\n",
    "store_dept_median.columns = [\"_\".join(x) for x in store_dept_median.columns.ravel()]\n",
    "store_dept_median.columns = ['Store', 'Dept', 'Weekly_Sales_median']\n",
    "print(store_dept_median.head())\n"
   ]
  },
  {
   "cell_type": "code",
   "execution_count": null,
   "metadata": {},
   "outputs": [],
   "source": [
    "#Adding the feature into train and test data\n",
    "print(combined_data_train.shape)\n",
    "combined_data_train2 = pd.merge(combined_data_train, store_dept_median, on=['Store', 'Dept'], how='left')\n",
    "print(combined_data_train2.shape)\n",
    "print(combined_data_test.shape)\n",
    "combined_data_test2 = pd.merge(combined_data_test, store_dept_median, on=['Store', 'Dept'], how='left')\n",
    "print(combined_data_test2.shape)"
   ]
  },
  {
   "cell_type": "code",
   "execution_count": null,
   "metadata": {},
   "outputs": [],
   "source": [
    "#Filling the few missing values for new feature in test data with mean\n",
    "combined_data_test2['Weekly_Sales_median'].fillna(combined_data_test2['Weekly_Sales_median'].mean() , inplace=True)"
   ]
  },
  {
   "cell_type": "markdown",
   "metadata": {},
   "source": [
    "# Modeling"
   ]
  },
  {
   "cell_type": "markdown",
   "metadata": {},
   "source": [
    "# Prediction 1"
   ]
  },
  {
   "cell_type": "code",
   "execution_count": null,
   "metadata": {},
   "outputs": [],
   "source": [
    "#Prediction based on Store, Dept and Week\n",
    "simple_prediction = combined_data_train.groupby(['Store', 'Dept', 'week_number'], as_index=False).agg({'Weekly_Sales' :  ['mean', 'count' ]})\n",
    "print(simple_prediction.shape)\n",
    "simple_prediction.columns = [\"_\".join(x) for x in simple_prediction.columns.ravel()]\n",
    "simple_prediction = simple_prediction.drop(['Weekly_Sales_count'], axis=1)\n",
    "simple_prediction.columns = ['Store', 'Dept', 'week_number', 'Sales_prediction']\n",
    "simple_prediction['prediction_type'] = 1\n",
    "simple_prediction.head()"
   ]
  },
  {
   "cell_type": "code",
   "execution_count": null,
   "metadata": {},
   "outputs": [],
   "source": [
    "pd.merge(combined_data_test, simple_prediction, on = ['Store', 'Dept', 'week_number']).shape"
   ]
  },
  {
   "cell_type": "code",
   "execution_count": null,
   "metadata": {},
   "outputs": [],
   "source": [
    "#Prediction based on Dept..since previous prediction will miss required combinations..\n",
    "#this is being done to provide approximation for sales in a dept irrespective of size \n",
    "moresimple_prediction = combined_data_train.groupby(['Dept'], as_index=False).agg({'Weekly_Sales' :  ['mean', 'count' ]})\n",
    "print(moresimple_prediction.shape)\n",
    "moresimple_prediction.columns = [\"_\".join(x) for x in moresimple_prediction.columns.ravel()]\n",
    "print(moresimple_prediction['Weekly_Sales_count'].describe())\n",
    "moresimple_prediction = moresimple_prediction.drop(['Weekly_Sales_count'], axis=1)\n",
    "moresimple_prediction.columns = ['Dept', 'Sales_prediction']\n",
    "moresimple_prediction['prediction_type'] = 2\n",
    "moresimple_prediction.head()"
   ]
  },
  {
   "cell_type": "code",
   "execution_count": 69,
   "metadata": {},
   "outputs": [],
   "source": [
    "#making sure there is no more than one entry for this combo\n",
    "def score_direct(df_to_score, pred_df1, pred_df2):\n",
    "    \"\"\"\n",
    "    We will use the 2 set of predictions made to estimate sales on the test data \n",
    "    \"\"\"\n",
    "    df_to_score['week_number'] =  df_to_score['Date2'].dt.week\n",
    "    df_input = df_to_score[['Store', 'Dept', 'Date2',  'week_number']]\n",
    "    print(df_input.shape)\n",
    "    #checking if there is only 1 entry per combination being used to predict (i.e. Store, Dept, Week Number)\n",
    "    print( df_input.groupby(['Store', 'Dept', 'week_number']).size().shape )\n",
    "    #Using prediction1 and separate out combinations that remain unscored\n",
    "    df_scored = pd.merge(df_input, pred_df1, on= ['Store', 'Dept', 'week_number'], how='left')\n",
    "    df_present = df_scored[ pd.isnull(df_scored['prediction_type']) ==False ]\n",
    "    df_missed =  df_scored[ pd.isnull(df_scored['prediction_type']) ]\n",
    "    df_missed = df_missed.drop(['Sales_prediction', 'prediction_type'], axis=1)\n",
    "    #using prediction2 to score the unscored test data\n",
    "    df_missed_scored = pd.merge(df_missed, pred_df2, on= ['Dept'], how='left')\n",
    "    print(df_missed_scored['prediction_type'].isna().sum())    \n",
    "    #getting the scored test data in single DF\n",
    "    df_full_scored = pd.concat( [df_present, df_missed_scored ] , axis=0)\n",
    "    print(df_full_scored.shape)\n",
    "    print(df_full_scored['prediction_type'].value_counts() )\n",
    "    return df_full_scored"
   ]
  },
  {
   "cell_type": "code",
   "execution_count": 70,
   "metadata": {},
   "outputs": [
    {
     "name": "stderr",
     "output_type": "stream",
     "text": [
      "<ipython-input-69-c8f2508644b9>:6: SettingWithCopyWarning: \n",
      "A value is trying to be set on a copy of a slice from a DataFrame.\n",
      "Try using .loc[row_indexer,col_indexer] = value instead\n",
      "\n",
      "See the caveats in the documentation: https://pandas.pydata.org/pandas-docs/stable/user_guide/indexing.html#returning-a-view-versus-a-copy\n",
      "  df_to_score['week_number'] =  df_to_score['Date2'].dt.week\n"
     ]
    },
    {
     "name": "stdout",
     "output_type": "stream",
     "text": [
      "(127008, 4)\n",
      "(127008,)\n",
      "0\n",
      "(127008, 6)\n",
      "1.0    124366\n",
      "2.0      2642\n",
      "Name: prediction_type, dtype: int64\n"
     ]
    }
   ],
   "source": [
    "test_full_scored = score_direct(combined_data_test, simple_prediction, moresimple_prediction)"
   ]
  },
  {
   "cell_type": "markdown",
   "metadata": {},
   "source": [
    "# Prediction 2 - Random Forest Regression"
   ]
  },
  {
   "cell_type": "code",
   "execution_count": 71,
   "metadata": {},
   "outputs": [],
   "source": [
    "#doing ohe of the categorical variables \n",
    "cat_columns = ['Type']\n",
    "combined_data_train2 = pd.concat([combined_data_train2, pd.get_dummies(combined_data_train2[cat_columns], drop_first=True)], axis=1)\n",
    "combined_data_test2 = pd.concat([combined_data_test2, pd.get_dummies(combined_data_test2[cat_columns], drop_first=True)], axis=1)"
   ]
  },
  {
   "cell_type": "code",
   "execution_count": 72,
   "metadata": {},
   "outputs": [
    {
     "name": "stdout",
     "output_type": "stream",
     "text": [
      "(293204, 21)\n",
      "(127008, 21)\n"
     ]
    }
   ],
   "source": [
    "columnstodrop = ['Type' , 'Store', 'Dept', 'Date', 'Date2', 'Weekly_Sales', 'holiday_type', 'week_number', 'year_number']\n",
    "X_train = combined_data_train2.drop(columnstodrop, axis = 1 )\n",
    "X_test = combined_data_test2.drop(columnstodrop, axis = 1 )\n",
    "print(X_train.shape)\n",
    "print(X_test.shape)"
   ]
  },
  {
   "cell_type": "code",
   "execution_count": 73,
   "metadata": {},
   "outputs": [],
   "source": [
    "#MarkDown4, 5  found to be over 60% correlated to other markdown variables\n",
    "X_train = X_train.drop(['MarkDown4', 'MarkDown5'], axis = 1 )\n",
    "X_test = X_test.drop(['MarkDown4', 'MarkDown5'], axis = 1 )\n"
   ]
  },
  {
   "cell_type": "code",
   "execution_count": 74,
   "metadata": {},
   "outputs": [],
   "source": [
    "Y_train = combined_data_train2['Weekly_Sales']\n",
    "Y_test = combined_data_test2['Weekly_Sales']\n",
    "from sklearn.ensemble import RandomForestRegressor\n",
    "from sklearn.model_selection import GridSearchCV"
   ]
  },
  {
   "cell_type": "code",
   "execution_count": null,
   "metadata": {},
   "outputs": [],
   "source": [
    "# RFR with hyper-parameter tuning\n",
    "import time\n",
    "aa = time.time()\n",
    "rfr = RandomForestRegressor(random_state=42,  n_jobs = -1, max_depth = 5)#criterion = 'mse',\n",
    "param_grid = { \n",
    "'n_estimators': [50, 100, 200]\n",
    "}\n",
    "CV_rfr = GridSearchCV(estimator = rfr, param_grid=param_grid, cv= 3)\n",
    "CV_rfr.fit(X_train, Y_train)\n",
    "rfr_best = CV_rfr.best_estimator_\n",
    "print(rfr_best)\n",
    "print(time.time() - aa)"
   ]
  },
  {
   "cell_type": "code",
   "execution_count": null,
   "metadata": {},
   "outputs": [],
   "source": [
    "def get_FI(modelname, dfname):\n",
    "    importance_list = pd.DataFrame(modelname.feature_importances_, columns=['importance'])\n",
    "    varnames_list = pd.DataFrame(dfname.columns.tolist(), columns=['feature'])\n",
    "    feature_importance = pd.concat([varnames_list, importance_list], axis=1, join_axes=[varnames_list.index])\n",
    "    feature_importance = feature_importance.sort_values(by=['importance'], ascending=False)\n",
    "    feature_importance['cum_importance'] = feature_importance['importance'].cumsum()\n",
    "    return feature_importance"
   ]
  },
  {
   "cell_type": "code",
   "execution_count": null,
   "metadata": {},
   "outputs": [],
   "source": [
    "get_FI(rfr_best, X_train)"
   ]
  },
  {
   "cell_type": "markdown",
   "metadata": {},
   "source": [
    "# Prediction 3 - ARIMA, another statistical technique"
   ]
  },
  {
   "cell_type": "code",
   "execution_count": null,
   "metadata": {},
   "outputs": [],
   "source": [
    "#Taking a example randomly to showcase ARIMA\n",
    "particular_data = sales_data2.loc[(sales_data2['Store'] == '13') & (sales_data2['Dept'] == '17'), \\\n",
    "                                          ['Date', 'Weekly_Sales']   ]\n",
    "particular_data['Date'] =  pd.to_datetime(particular_data['Date'])\n",
    "particular_data.index = particular_data.Date\n",
    "particular_data = particular_data.drop('Date', axis=1)\n",
    "particular_data.head()"
   ]
  },
  {
   "cell_type": "code",
   "execution_count": null,
   "metadata": {},
   "outputs": [],
   "source": [
    "particular_data_train, particular_data_test  = particular_data[particular_data.index <= split_date],  particular_data[particular_data.index > split_date]\n",
    "print(particular_data_train.shape)\n",
    "print(particular_data_test.shape)"
   ]
  },
  {
   "cell_type": "code",
   "execution_count": null,
   "metadata": {},
   "outputs": [],
   "source": [
    "from statsmodels.tsa.seasonal import seasonal_decompose\n",
    "result = seasonal_decompose(particular_data, model='multiplicative')\n",
    "fig = result.plot()"
   ]
  },
  {
   "cell_type": "code",
   "execution_count": null,
   "metadata": {},
   "outputs": [],
   "source": [
    "from pandas.plotting import autocorrelation_plot"
   ]
  },
  {
   "cell_type": "code",
   "execution_count": null,
   "metadata": {},
   "outputs": [],
   "source": [
    "autocorrelation_plot(particular_data_train)"
   ]
  },
  {
   "cell_type": "code",
   "execution_count": null,
   "metadata": {},
   "outputs": [],
   "source": [
    "#Running ARIMA model\n",
    "from statsmodels.tsa.arima_model import ARIMA\n",
    "# fit model\n",
    "model = ARIMA(particular_data_train, order=(0,1,0))\n",
    "model_fit = model.fit(disp=1)\n",
    "print(model_fit.summary())\n",
    "# plot residual errors\n",
    "residuals = pd.DataFrame(model_fit.resid)\n",
    "residuals.plot()\n",
    "plt.show()\n",
    "residuals.plot(kind='kde')\n",
    "plt.show()\n",
    "print(residuals.describe())"
   ]
  },
  {
   "cell_type": "code",
   "execution_count": null,
   "metadata": {},
   "outputs": [],
   "source": [
    "# Install pyramid using\n",
    "#pip install pmdarima\n",
    "#Hyper Parameter Tuning of ARIMA model..No seasonality taken.\n",
    "from pmdarima import auto_arima\n",
    "auto_model = auto_arima(particular_data_train, start_p=1, d=0, start_q=1,\n",
    "                           max_p=3, max_q=3, m=1,\n",
    "                           start_P=0, seasonal=False,\n",
    "                           D=None, trace=True,\n",
    "                           error_action='ignore'\n",
    "                           )#suppress_warnings=True\n",
    "auto_model.fit(particular_data_train)\n",
    "print(auto_model)\n",
    "test_arima = auto_model.predict(n_periods= len(particular_data_test))\n"
   ]
  },
  {
   "cell_type": "code",
   "execution_count": null,
   "metadata": {},
   "outputs": [],
   "source": [
    "sales_data_train = combined_data_train[['Store', 'Dept', 'Date2', 'Weekly_Sales']]\n",
    "sales_data_test = combined_data_test[['Store', 'Dept', 'Date2', 'Weekly_Sales']]"
   ]
  },
  {
   "cell_type": "code",
   "execution_count": null,
   "metadata": {},
   "outputs": [],
   "source": [
    "#checking the number of records for each store, dept combination\n",
    "temper = sales_data_train.groupby(['Store', 'Dept'], as_index=False).agg({'Date2': 'count' })\n",
    "temper = temper.rename(columns= {'Date2' : 'counter'})\n",
    "temper.head()\n",
    "temper2 = temper.groupby(['counter'], as_index=False).agg({'Store': 'count' })\n",
    "temper2"
   ]
  },
  {
   "cell_type": "code",
   "execution_count": null,
   "metadata": {},
   "outputs": [],
   "source": [
    "temper.shape"
   ]
  },
  {
   "cell_type": "code",
   "execution_count": null,
   "metadata": {},
   "outputs": [],
   "source": [
    "from sklearn.metrics import mean_absolute_error"
   ]
  },
  {
   "cell_type": "code",
   "execution_count": null,
   "metadata": {},
   "outputs": [],
   "source": [
    "def arima_modeler(df_train, df_test):\n",
    "    \"\"\"\n",
    "    Now we will create a function to create these models after hyper-parameter tuning for all the combinations of Store and Dept\n",
    "    in the data    \n",
    "    \"\"\"\n",
    "    combos_train = df_train.groupby(['Store', 'Dept'], as_index=False).agg({'Date2' : {'min', 'max', 'count'} })\n",
    "    print(combos_train.shape)\n",
    "    combos_test = df_test.groupby(['Store', 'Dept'], as_index=False).agg({'Date2' :  'count' })\n",
    "    combos_test = combos_test[['Store', 'Dept']]\n",
    "    print(combos_test.shape)\n",
    "    combos_common = pd.merge(combos_train, combos_test, on = ['Store', 'Dept'])\n",
    "    print(combos_common.shape)\n",
    "    combos_common.columns = [\"_\".join(x) for x in combos_common.columns.ravel()]\n",
    "    combos_common = combos_common.rename(columns = {'Store_' : 'Store', 'Dept_' : 'Dept'})\n",
    "    combos_common['total_weeks'] = (combos_common['Date2_max'] - combos_common['Date2_min']).astype('timedelta64[D]')/7 + 1\n",
    "    combos_common['date_gap'] = combos_common['total_weeks'] - combos_common['Date2_count']\n",
    "    combos_common_nogap = combos_common.loc[combos_common['date_gap'] ==0 ]\n",
    "    print(combos_common_nogap.shape)\n",
    "    combos_common_nogap = combos_common_nogap.loc[combos_common_nogap['Date2_max'] == split_date ]\n",
    "    combos_common_nogap = combos_common_nogap.loc[combos_common_nogap['Date2_count'] == 100 ]\n",
    "    combos_common_nogap = combos_common_nogap.sort_values(by=['Store', 'Dept'])\n",
    "    combos_common_nogap.reset_index(inplace=True)\n",
    "    print(combos_common_nogap.shape)\n",
    "    print(combos_common_nogap.head(10))\n",
    "    \n",
    "    sales_data_train_nogap = pd.merge(df_train, combos_common_nogap[['Store', 'Dept']], on =  ['Store', 'Dept'] )\n",
    "    print(sales_data_train_nogap.shape)\n",
    "    sales_data_test_nogap = pd.merge(df_test, combos_common_nogap[['Store', 'Dept']], on =  ['Store', 'Dept'] )\n",
    "    print(sales_data_test_nogap.shape)#The remaining data cant be predicted\n",
    "\n",
    "    sales_data_train_nogap = sales_data_train_nogap.sort_values(by=['Store', 'Dept', 'Date2'])\n",
    "    sales_data_test_nogap = sales_data_test_nogap.sort_values(by=['Store', 'Dept', 'Date2'])\n",
    "#     sales_data_test_nogap = sales_data_test_nogap[0:10000]\n",
    "    \n",
    "    #creating a DF that will store all the model outputs\n",
    "    all_scores = pd.DataFrame(columns = ['score'])\n",
    "\n",
    "    for i in range(len(combos_common_nogap)):#\n",
    "        print(i)\n",
    "        store_id = combos_common_nogap.loc[i]['Store']\n",
    "        dept_id = combos_common_nogap.loc[i]['Dept']    \n",
    "        print(\"Now the model for Store \" + store_id + \" and Dept \" + dept_id + \" will be created\")\n",
    "        particular_data_train = sales_data_train_nogap.loc[(sales_data_train_nogap['Store'] == store_id) & (sales_data_train_nogap['Dept'] == dept_id), \\\n",
    "                                              ['Date2', 'Weekly_Sales']   ]\n",
    "        print(particular_data_train.shape)\n",
    "        particular_data_test = sales_data_test_nogap.loc[(sales_data_test_nogap['Store'] == store_id) & (sales_data_test_nogap['Dept'] == dept_id), \\\n",
    "                                                  ['Date2', 'Weekly_Sales']   ]#, 'Weekly_Sales'\n",
    "        print(particular_data_test.shape)\n",
    "        #The date is required as index for ARIMA models\n",
    "        particular_data_train.index = particular_data_train.Date2\n",
    "        particular_data_test.index = particular_data_test.Date2\n",
    "\n",
    "        particular_data_train = particular_data_train.drop('Date2', axis=1)\n",
    "        particular_data_test = particular_data_test.drop('Date2', axis=1)\n",
    "        \n",
    "        #Hyper Parameter tuning\n",
    "        auto_model = auto_arima(particular_data_train, start_p=1, d=0, start_q=1,max_p=3, max_q=3, start_P=0, trace=True)\n",
    "        auto_model.fit(particular_data_train)\n",
    "        print(auto_model)\n",
    "        test_arima = auto_model.predict(n_periods=len(particular_data_test))\n",
    "        test_arima_df  = pd.DataFrame(test_arima, columns = ['score'] )\n",
    "        #appending the new scores along with the scores already obtained\n",
    "        all_scores = pd.concat([all_scores, test_arima_df], axis=0)\n",
    "        all_scores = all_scores.reset_index()\n",
    "        all_scores = all_scores.drop(['index'], axis=1)\n",
    "        print(mean_absolute_error(particular_data_test, test_arima))\n",
    "    \n",
    "    #getting the model scores and actuals in one file for comparison\n",
    "    sales_data_test2 = sales_data_test_nogap.reset_index()\n",
    "    sales_data_test2 = sales_data_test2.drop(['index'], axis=1)\n",
    "    print(sales_data_test2.head())\n",
    "    test_data_scored = pd.concat([sales_data_test2, all_scores], axis=1)\n",
    "    return test_data_scored"
   ]
  },
  {
   "cell_type": "code",
   "execution_count": null,
   "metadata": {},
   "outputs": [],
   "source": [
    "partialtest_scored_arima = arima_modeler(sales_data_train, sales_data_test)"
   ]
  },
  {
   "cell_type": "code",
   "execution_count": null,
   "metadata": {},
   "outputs": [],
   "source": [
    "partialtest_scored_arima.shape"
   ]
  },
  {
   "cell_type": "code",
   "execution_count": null,
   "metadata": {},
   "outputs": [],
   "source": [
    "sales_data_test_arima = pd.merge(sales_data_test, partialtest_scored_arima.drop(['Weekly_Sales'], axis=1), on=['Store', 'Dept', 'Date2'], how='left' )\n",
    "sales_data_test_arima.isna().sum()"
   ]
  },
  {
   "cell_type": "code",
   "execution_count": null,
   "metadata": {},
   "outputs": [],
   "source": [
    "#Making the prediction for cases where ARIMA couldnt make the prediction due to lack of data  \n",
    "sales_data_test_missing =sales_data_test_arima.loc[pd.isnull(sales_data_test_arima['score']) ]\n",
    "sales_data_test_mp = pd.merge(sales_data_test_missing.drop('score', axis=1) , moresimple_prediction.rename(columns = {'Sales_prediction':'score'}) , on='Dept' )\n",
    "sales_data_test_mp.head()"
   ]
  },
  {
   "cell_type": "code",
   "execution_count": null,
   "metadata": {},
   "outputs": [],
   "source": [
    "sales_data_test_mp.drop('prediction_type', axis=1, inplace=True)\n",
    "fullyscored_test_arima = pd.concat([partialtest_scored_arima, sales_data_test_mp ], axis=0)\n",
    "fullyscored_test_arima.shape"
   ]
  },
  {
   "cell_type": "markdown",
   "metadata": {},
   "source": [
    "# Model Comparison"
   ]
  },
  {
   "cell_type": "code",
   "execution_count": null,
   "metadata": {},
   "outputs": [],
   "source": [
    "#Getting the sales numbers in the data\n",
    "test_scored_stats = pd.merge(test_full_scored, sales_data_test, on = ['Store', 'Dept', 'Date2'])\n",
    "test_scored_stats.shape"
   ]
  },
  {
   "cell_type": "code",
   "execution_count": null,
   "metadata": {},
   "outputs": [],
   "source": [
    "def rf_scorer(X_df, Y_df, model_name):\n",
    "    \"\"\"\n",
    "    obtain the prediction and compare with the actual\n",
    "    \"\"\"\n",
    "    scored_rf = pd.DataFrame({ 'Sales_prediction' : model_name.predict(X_df)} ) \n",
    "    scored_actuals_rf = pd.concat( [scored_rf, Y_df.reset_index() ] , axis=1)\n",
    "    scored_actuals_rf = scored_actuals_rf.drop(['index'], axis = 1)\n",
    "    scored_actuals_rf['error_abs_rf'] = (scored_actuals_rf['Sales_prediction'] - scored_actuals_rf['Weekly_Sales']).abs()\n",
    "    print(scored_actuals_rf['error_abs_rf'].describe())\n",
    "    return scored_actuals_rf"
   ]
  },
  {
   "cell_type": "code",
   "execution_count": null,
   "metadata": {},
   "outputs": [],
   "source": [
    "#Creating absolute error metric in each dataframe\n",
    "test_scored_stats['error_abs_st'] = (test_scored_stats['Weekly_Sales'] - test_scored_stats['Sales_prediction']).abs()\n",
    "test_rf = rf_scorer(X_test, Y_test, rfr_best)\n",
    "fullyscored_test_arima['error_abs_ar'] = (fullyscored_test_arima['Weekly_Sales'] - fullyscored_test_arima['score']).abs()"
   ]
  },
  {
   "cell_type": "code",
   "execution_count": null,
   "metadata": {},
   "outputs": [],
   "source": [
    "#Getting Mean Absolute Error\n",
    "from sklearn.metrics import mean_squared_error\n",
    "import math\n",
    "print( \"MAE Prediction Stats =   \" + str((mean_absolute_error(test_scored_stats['Weekly_Sales'],  test_scored_stats['Sales_prediction'])) ) )  \n",
    "print( \"MAE Prediction Random Forest =   \" + str((mean_absolute_error(test_rf['Weekly_Sales'],  test_rf['Sales_prediction'])) )  )\n",
    "print( \"MAE Prediction ARIMA  = \" + str((mean_absolute_error(fullyscored_test_arima['Weekly_Sales'],  fullyscored_test_arima['score'])) )  )"
   ]
  },
  {
   "cell_type": "code",
   "execution_count": null,
   "metadata": {},
   "outputs": [],
   "source": [
    "#Getting RMSE\n",
    "from sklearn.metrics import mean_squared_error\n",
    "import math\n",
    "print( \"RMSE Prediction Stats =   \" + str(math.sqrt(mean_squared_error(test_scored_stats['Weekly_Sales'],  test_scored_stats['Sales_prediction'])) ) )  \n",
    "print( \"RMSE Prediction Random Forest =   \" + str(math.sqrt(mean_squared_error(test_rf['Weekly_Sales'],  test_rf['Sales_prediction'])) )  )\n",
    "print( \"RMSE Prediction ARIMA  = \" + str(math.sqrt(mean_squared_error(fullyscored_test_arima['Weekly_Sales'],  fullyscored_test_arima['score'])) )  )"
   ]
  },
  {
   "cell_type": "code",
   "execution_count": null,
   "metadata": {},
   "outputs": [],
   "source": [
    "#Plotting the absolute error with the weekly sales for all the 3 predictions\n",
    "temper1 = test_scored_stats.sort_values(by=['Weekly_Sales'])\n",
    "temper2 = test_rf.sort_values(by=['Weekly_Sales'])\n",
    "temper3 = fullyscored_test_arima.sort_values(by=['Weekly_Sales'])\n",
    "\n",
    "plt.figure(figsize=(20,10))\n",
    "plt.title('Error Comparison of different Models on Test data')\n",
    "plt.xlabel('Weekly Sales')\n",
    "plt.ylabel('Absolute Error')\n",
    "plt.plot(temper1['Weekly_Sales'], temper1['error_abs_st'], label ='Statistical', alpha = 0.7)\n",
    "plt.plot(temper2['Weekly_Sales'], temper2['error_abs_rf'], label = 'RFR', alpha = 0.7)\n",
    "plt.plot(temper3['Weekly_Sales'], temper3['error_abs_ar'], label = 'ARIMA', alpha = 0.7)\n",
    "plt.legend()"
   ]
  },
  {
   "cell_type": "markdown",
   "metadata": {},
   "source": [
    "# Discussion and Conclusion"
   ]
  },
  {
   "cell_type": "code",
   "execution_count": null,
   "metadata": {},
   "outputs": [],
   "source": [
    "# Macro Economic Indicators did not help in prediction of weekly sales. The sales data is very similar over different years \\\n",
    "# and this consistency helped to predict the sales. "
   ]
  }
 ],
 "metadata": {
  "kernelspec": {
   "display_name": "Python 3",
   "language": "python",
   "name": "python3"
  },
  "language_info": {
   "codemirror_mode": {
    "name": "ipython",
    "version": 3
   },
   "file_extension": ".py",
   "mimetype": "text/x-python",
   "name": "python",
   "nbconvert_exporter": "python",
   "pygments_lexer": "ipython3",
   "version": "3.8.3"
  }
 },
 "nbformat": 4,
 "nbformat_minor": 2
}
